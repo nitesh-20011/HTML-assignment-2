{
  "nbformat": 4,
  "nbformat_minor": 0,
  "metadata": {
    "colab": {
      "provenance": []
    },
    "kernelspec": {
      "name": "python3",
      "display_name": "Python 3"
    },
    "language_info": {
      "name": "python"
    }
  },
  "cells": [
    {
      "cell_type": "markdown",
      "source": [
        "#    Html assignment 2\n"
      ],
      "metadata": {
        "id": "Jkaz35cl-N4d"
      }
    },
    {
      "cell_type": "markdown",
      "source": [
        "1.   Write a simple program in HTML  that displays the heading \"HTML defines the content and structure of\n",
        "your website” on the web browse"
      ],
      "metadata": {
        "id": "kXHSs0BU_Kz4"
      }
    },
    {
      "cell_type": "code",
      "source": [
        "<!DOCTYPE html>\n",
        "<html lang=\"en\">\n",
        "<head>\n",
        "    <meta charset=\"UTF-8\">\n",
        "    <meta name=\"viewport\" content=\"width=device-width, initial-scale=1.0\">\n",
        "    <title>HTML Basics</title>\n",
        "</head>\n",
        "<body>\n",
        "    <h1>HTML defines the content and structure of your website</h1>\n",
        "</body>\n",
        "</html>"
      ],
      "metadata": {
        "id": "aAEYCCcY-epV"
      },
      "execution_count": null,
      "outputs": []
    },
    {
      "cell_type": "markdown",
      "source": [
        "1.   Explain the purpose of comments in HTML and provide an example of how to use comments in an HTML\n",
        "document"
      ],
      "metadata": {
        "id": "YLEMwgmhABsV"
      }
    },
    {
      "cell_type": "code",
      "source": [
        "<!DOCTYPE html>\n",
        "<html lang=\"en\">\n",
        "<head>\n",
        "    <meta charset=\"UTF-8\">\n",
        "    <meta name=\"viewport\" content=\"width=device-width, initial-scale=1.0\">\n",
        "    <title>HTML Comments Example</title>\n",
        "</head>\n",
        "<body>\n",
        "    <!-- This is a heading for the webpage -->\n",
        "    <h1>Welcome to My Website</h1>\n",
        "\n",
        "    <!-- This paragraph describes the website -->\n",
        "    <p>This website provides information about HTML, CSS, and JavaScript.</p>\n",
        "\n",
        "    <!-- TODO: Add a contact form below -->\n",
        "</body>\n",
        "</html>\n"
      ],
      "metadata": {
        "id": "WlvE6BTqA9jP"
      },
      "execution_count": null,
      "outputs": []
    },
    {
      "cell_type": "markdown",
      "source": [
        "3.   Write an HTML program that includes a heading, a paragraph of text, a horizontal line, and a line break.\n",
        "Arrange these elements to create a simple web page layout?"
      ],
      "metadata": {
        "id": "IurOBDE_BH5Q"
      }
    },
    {
      "cell_type": "code",
      "source": [
        "<!DOCTYPE html>\n",
        "<html lang=\"en\">\n",
        "<head>\n",
        "    <meta charset=\"UTF-8\">\n",
        "    <meta name=\"viewport\" content=\"width=device-width, initial-scale=1.0\">\n",
        "    <title>Simple Web Page Layout</title>\n",
        "</head>\n",
        "<body>\n",
        "    <h1>Welcome to My Web Page</h1>\n",
        "    <p>This is a simple web page layout demonstrating basic HTML elements.</p>\n",
        "    <hr>\n",
        "    <p>Here is a new paragraph after a horizontal line.<br>And this text appears on a new line.</p>\n",
        "</body>\n",
        "</html>\n"
      ],
      "metadata": {
        "colab": {
          "base_uri": "https://localhost:8080/",
          "height": 106
        },
        "id": "Ixhqzd9EBSX-",
        "outputId": "648ce770-647b-489e-fdae-9b01df46646e"
      },
      "execution_count": 2,
      "outputs": [
        {
          "output_type": "error",
          "ename": "SyntaxError",
          "evalue": "invalid syntax (<ipython-input-2-3893c7a666fc>, line 1)",
          "traceback": [
            "\u001b[0;36m  File \u001b[0;32m\"<ipython-input-2-3893c7a666fc>\"\u001b[0;36m, line \u001b[0;32m1\u001b[0m\n\u001b[0;31m    <!DOCTYPE html>\u001b[0m\n\u001b[0m    ^\u001b[0m\n\u001b[0;31mSyntaxError\u001b[0m\u001b[0;31m:\u001b[0m invalid syntax\n"
          ]
        }
      ]
    },
    {
      "cell_type": "markdown",
      "source": [
        "4.   Write a short note on Tag and element with an example?"
      ],
      "metadata": {
        "id": "B_-3nToVDarH"
      }
    },
    {
      "cell_type": "code",
      "source": [
        "An element consists of an opening tag, content, and a closing tag (if applicable)\n",
        "ex   <p>This is a paragraph.</p>\n",
        "<p>This is a paragraph.</p>\n"
      ],
      "metadata": {
        "id": "69u-rrGxHTCI"
      },
      "execution_count": null,
      "outputs": []
    },
    {
      "cell_type": "markdown",
      "source": [
        "5.   What is the DOCTYPE Declaration in HTML?"
      ],
      "metadata": {
        "id": "vdZU2-H6G-m3"
      }
    },
    {
      "cell_type": "code",
      "source": [
        "The DOCTYPE declaration is an instruction at the beginning of an HTML document that tells the web browser which version of HTML the document is written in\n",
        "\n",
        "<!DOCTYPE html>\n",
        "\n"
      ],
      "metadata": {
        "colab": {
          "base_uri": "https://localhost:8080/",
          "height": 124
        },
        "id": "IF7u76-XHp6m",
        "outputId": "468737a4-f690-4833-99fa-d89da8f6bd83"
      },
      "execution_count": 1,
      "outputs": [
        {
          "output_type": "error",
          "ename": "SyntaxError",
          "evalue": "invalid syntax (<ipython-input-1-3c7420473cac>, line 1)",
          "traceback": [
            "\u001b[0;36m  File \u001b[0;32m\"<ipython-input-1-3c7420473cac>\"\u001b[0;36m, line \u001b[0;32m1\u001b[0m\n\u001b[0;31m    The DOCTYPE declaration is an instruction at the beginning of an HTML document that tells the web browser which version of HTML the document is written in\u001b[0m\n\u001b[0m        ^\u001b[0m\n\u001b[0;31mSyntaxError\u001b[0m\u001b[0;31m:\u001b[0m invalid syntax\n"
          ]
        }
      ]
    }
  ]
}